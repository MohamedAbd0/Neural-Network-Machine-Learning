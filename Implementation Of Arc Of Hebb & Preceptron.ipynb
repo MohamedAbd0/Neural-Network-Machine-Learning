{
 "cells": [
  {
   "cell_type": "code",
   "execution_count": 2,
   "metadata": {
    "collapsed": true
   },
   "outputs": [],
   "source": [
    "import networkx as nx"
   ]
  },
  {
   "cell_type": "code",
   "execution_count": 3,
   "metadata": {
    "collapsed": true
   },
   "outputs": [],
   "source": [
    "G=nx.Graph()"
   ]
  },
  {
   "cell_type": "code",
   "execution_count": 4,
   "metadata": {},
   "outputs": [
    {
     "data": {
      "text/plain": [
       "'\\n  b\\n          \\\\  wb\\n        x1 (w1)-- y\\n         /\\n       / w2\\n     /\\n  x2\\n'"
      ]
     },
     "execution_count": 4,
     "metadata": {},
     "output_type": "execute_result"
    }
   ],
   "source": [
    "'''\n",
    "  b\n",
    "    \\\n",
    "      \\  wb\n",
    "        \\\n",
    "x1 (w1)-- y\n",
    "         /\n",
    "       / w2\n",
    "     /\n",
    "  x2\n",
    "'''"
   ]
  },
  {
   "cell_type": "markdown",
   "metadata": {},
   "source": [
    "# add node into graph With value of eash node is 0"
   ]
  },
  {
   "cell_type": "code",
   "execution_count": 5,
   "metadata": {
    "collapsed": true
   },
   "outputs": [],
   "source": [
    "G.add_node('b',val=0)\n",
    "G.add_node('x1',val=0)\n",
    "G.add_node('x2',val=0)\n",
    "G.add_node('y',val=0)"
   ]
  },
  {
   "cell_type": "markdown",
   "metadata": {},
   "source": [
    "# Drow connection of nodes With W=0"
   ]
  },
  {
   "cell_type": "code",
   "execution_count": 6,
   "metadata": {
    "collapsed": true
   },
   "outputs": [],
   "source": [
    "G.add_edges_from([('b','y'),('x1','y'),('x2','y')],w=0)"
   ]
  },
  {
   "cell_type": "markdown",
   "metadata": {},
   "source": [
    "# To drow final Graph"
   ]
  },
  {
   "cell_type": "code",
   "execution_count": 41,
   "metadata": {},
   "outputs": [
    {
     "data": {
      "image/png": "[encoded data removed]",
      "text/plain": [
       "<matplotlib.figure.Figure at 0x1ffc985a710>"
      ]
     },
     "metadata": {},
     "output_type": "display_data"
    }
   ],
   "source": [
    "import matplotlib.pyplot as plt\n",
    "nx.draw(G)\n",
    "plt.savefig(\"simple_path.png\") # save as png\n",
    "plt.show() # display"
   ]
  },
  {
   "cell_type": "markdown",
   "metadata": {},
   "source": [
    "# implementation of algorithm Hebb"
   ]
  },
  {
   "cell_type": "code",
   "execution_count": 26,
   "metadata": {
    "collapsed": true
   },
   "outputs": [],
   "source": [
    "#    algolithm\n",
    "def hebb_training(x1,x2,b,t):\n",
    "    # step 0 :Initialize all weights = 0\n",
    "    # step 1 :For each of the training sample\n",
    "    # step 2 :set s to input units\n",
    "    G.node['x1']['val']=x1\n",
    "    G.node['x2']['val']=x2\n",
    "    # step 3 :set y to the target\n",
    "    G.node['y']['val']=t\n",
    "    # step 4 :update weight & bias\n",
    "    Dw1=x1*t\n",
    "    Dw2=x2*t\n",
    "    Db=b*t\n",
    "    G['x1']['y']['w']=G['x1']['y']['w']+Dw1\n",
    "    G['x2']['y']['w']=G['x2']['y']['w']+Dw2\n",
    "    G['b']['y']['w']=G['b']['y']['w']+Db\n",
    "    \n",
    "    print(\"W1 = \",G['x1']['y']['w'])\n",
    "    print(\"W2 = \",G['x2']['y']['w'])\n",
    "    print(\"b = \",G['b']['y']['w'])\n",
    "\n",
    "def hebb_test(x1,x2,th):\n",
    "    G.node['x1']['val']=x1\n",
    "    G.node['x2']['val']=x2\n",
    "    G.node['y']['val']=(G.node['x1']['val']*G['x1']['y']['w'])+(G.node['x1']['val']*G['x1']['y']['w'])+(G.node['b']['val']*G['b']['y']['w'])\n",
    "    if(G.node['y']['val']>th):\n",
    "        print(\"output = \",1)\n",
    "    else:\n",
    "        print(\"output = \",-1)\n",
    "        \n",
    "def clear():\n",
    "    G.node['x1']['val']=0\n",
    "    G.node['x2']['val']=0\n",
    "    G.node['b']['val']=0\n",
    "    G.node['y']['val']=0\n",
    "    G['x1']['y']['w']=0\n",
    "    G['x2']['y']['w']=0\n",
    "    G['b']['y']['w']=0\n",
    "\n"
   ]
  },
  {
   "cell_type": "markdown",
   "metadata": {},
   "source": [
    "# implementation of algorithm Preceptron"
   ]
  },
  {
   "cell_type": "code",
   "execution_count": 39,
   "metadata": {
    "collapsed": true
   },
   "outputs": [],
   "source": [
    "#    algotithm\n",
    "def Perceptron_training(x1,x2,lr,t,th):\n",
    "    # step 0 :Initialize all weights = 0\n",
    "    # step 1 :For each of the training sample\n",
    "    # step 2 :set s to input units\n",
    "    G.node['x1']['val']=x1\n",
    "    G.node['x2']['val']=x2\n",
    "    \n",
    "    # step 3 :compute y : y_in= b + Σ xi wi\n",
    "    y_in=(G.node['x1']['val']*G['x1']['y']['w']*lr)+(G.node['x1']['val']*G['x1']['y']['w']*lr)+(G.node['b']['val']*G['b']['y']['w']*lr)\n",
    "    \n",
    "    #activation function \n",
    "    # step 4 :update weight & bias  condition\n",
    "    if(Activation_function(th,y_in) != t):\n",
    "        Dw1=x1*t\n",
    "        Dw2=x2*t\n",
    "        Db=G.node['b']['val']*t\n",
    "        G['x1']['y']['w']=G['x1']['y']['w']+Dw1\n",
    "        G['x2']['y']['w']=G['x2']['y']['w']+Dw2\n",
    "        G['b']['y']['w']=G['b']['y']['w']+Db\n",
    "    \n",
    "    print(\"W1 = \",G['x1']['y']['w'])\n",
    "    print(\"W2 = \",G['x2']['y']['w'])\n",
    "    print(\"b = \",G['b']['y']['w'])\n",
    "    \n",
    "def Activation_function(th,y_in):\n",
    "    if(y_in > th):\n",
    "        G.node['y']['val']=1\n",
    "    elif(-th <= y_in <= th):\n",
    "        G.node['y']['val']=0\n",
    "    else:\n",
    "        G.node['y']['val']=-1\n",
    "    return G.node['y']['val']\n",
    "        \n",
    "def Perceptron_test(x1,x2,th):\n",
    "    G.node['x1']['val']=x1\n",
    "    G.node['x2']['val']=x2\n",
    "    y_in=(G.node['x1']['val']*G['x1']['y']['w'])+(G.node['x1']['val']*G['x1']['y']['w'])+(G.node['b']['val']*G['b']['y']['w'])\n",
    "    print(\"the output is : \",Activation_function(th,y_in))\n",
    "        "
   ]
  },
  {
   "cell_type": "code",
   "execution_count": 14,
   "metadata": {},
   "outputs": [
    {
     "name": "stdout",
     "output_type": "stream",
     "text": [
      "W1 =  1\n",
      "W2 =  1\n",
      "b =  1\n"
     ]
    }
   ],
   "source": [
    "hebb_training(1,1,1,1)"
   ]
  },
  {
   "cell_type": "code",
   "execution_count": 15,
   "metadata": {},
   "outputs": [
    {
     "name": "stdout",
     "output_type": "stream",
     "text": [
      "W1 =  1\n",
      "W2 =  1\n",
      "b =  1\n"
     ]
    }
   ],
   "source": [
    "hebb_training(1,0,1,0)"
   ]
  },
  {
   "cell_type": "code",
   "execution_count": 16,
   "metadata": {},
   "outputs": [
    {
     "name": "stdout",
     "output_type": "stream",
     "text": [
      "W1 =  1\n",
      "W2 =  1\n",
      "b =  1\n"
     ]
    }
   ],
   "source": [
    "hebb_training(0,1,1,0)"
   ]
  },
  {
   "cell_type": "code",
   "execution_count": 17,
   "metadata": {
    "collapsed": true
   },
   "outputs": [],
   "source": [
    "clear()"
   ]
  },
  {
   "cell_type": "code",
   "execution_count": 18,
   "metadata": {},
   "outputs": [
    {
     "name": "stdout",
     "output_type": "stream",
     "text": [
      "W1 =  1\n",
      "W2 =  1\n",
      "b =  1\n"
     ]
    }
   ],
   "source": [
    "hebb_training(1,1,1,1)"
   ]
  },
  {
   "cell_type": "code",
   "execution_count": 19,
   "metadata": {},
   "outputs": [
    {
     "name": "stdout",
     "output_type": "stream",
     "text": [
      "W1 =  0\n",
      "W2 =  2\n",
      "b =  0\n"
     ]
    }
   ],
   "source": [
    "hebb_training(1,-1,1,-1)"
   ]
  },
  {
   "cell_type": "code",
   "execution_count": 20,
   "metadata": {},
   "outputs": [
    {
     "name": "stdout",
     "output_type": "stream",
     "text": [
      "W1 =  1\n",
      "W2 =  1\n",
      "b =  -1\n"
     ]
    }
   ],
   "source": [
    "hebb_training(-1,1,1,-1)"
   ]
  },
  {
   "cell_type": "code",
   "execution_count": 21,
   "metadata": {},
   "outputs": [
    {
     "name": "stdout",
     "output_type": "stream",
     "text": [
      "W1 =  2\n",
      "W2 =  2\n",
      "b =  -2\n"
     ]
    }
   ],
   "source": [
    "hebb_training(-1,-1,1,-1)"
   ]
  },
  {
   "cell_type": "code",
   "execution_count": 22,
   "metadata": {},
   "outputs": [
    {
     "name": "stdout",
     "output_type": "stream",
     "text": [
      "output =  -1\n"
     ]
    }
   ],
   "source": [
    "hebb_test(-1,-1,0)"
   ]
  },
  {
   "cell_type": "code",
   "execution_count": 33,
   "metadata": {},
   "outputs": [
    {
     "name": "stdout",
     "output_type": "stream",
     "text": [
      "W1 =  1\n",
      "W2 =  1\n",
      "b =  1\n"
     ]
    }
   ],
   "source": [
    "clear()\n",
    "Perceptron_training(1,1,1,0.2)"
   ]
  },
  {
   "cell_type": "code",
   "execution_count": 34,
   "metadata": {},
   "outputs": [
    {
     "name": "stdout",
     "output_type": "stream",
     "text": [
      "W1 =  0\n",
      "W2 =  1\n",
      "b =  0\n"
     ]
    }
   ],
   "source": [
    "Perceptron_training(1,0,-1,0.2)"
   ]
  },
  {
   "cell_type": "code",
   "execution_count": 35,
   "metadata": {},
   "outputs": [
    {
     "name": "stdout",
     "output_type": "stream",
     "text": [
      "W1 =  0\n",
      "W2 =  0\n",
      "b =  -1\n"
     ]
    }
   ],
   "source": [
    "Perceptron_training(0,1,-1,0.2)"
   ]
  },
  {
   "cell_type": "code",
   "execution_count": 36,
   "metadata": {},
   "outputs": [
    {
     "name": "stdout",
     "output_type": "stream",
     "text": [
      "W1 =  0\n",
      "W2 =  0\n",
      "b =  -2\n"
     ]
    }
   ],
   "source": [
    "Perceptron_training(0,0,-1,0.2)"
   ]
  },
  {
   "cell_type": "code",
   "execution_count": 37,
   "metadata": {},
   "outputs": [
    {
     "name": "stdout",
     "output_type": "stream",
     "text": [
      "W1 =  1\n",
      "W2 =  1\n",
      "b =  -1\n"
     ]
    }
   ],
   "source": [
    "Perceptron_training(1,1,1,0.2)"
   ]
  },
  {
   "cell_type": "code",
   "execution_count": 38,
   "metadata": {},
   "outputs": [
    {
     "name": "stdout",
     "output_type": "stream",
     "text": [
      "W1 =  0\n",
      "W2 =  1\n",
      "b =  -2\n"
     ]
    }
   ],
   "source": [
    "Perceptron_training(1,0,-1,0.2)"
   ]
  },
  {
   "cell_type": "code",
   "execution_count": null,
   "metadata": {
    "collapsed": true
   },
   "outputs": [],
   "source": []
  }
 ],
 "metadata": {
  "celltoolbar": "Raw Cell Format",
  "kernelspec": {
   "display_name": "Python 3",
   "language": "python",
   "name": "python3"
  },
  "language_info": {
   "codemirror_mode": {
    "name": "ipython",
    "version": 3
   },
   "file_extension": ".py",
   "mimetype": "text/x-python",
   "name": "python",
   "nbconvert_exporter": "python",
   "pygments_lexer": "ipython3",
   "version": "3.6.3"
  }
 },
 "nbformat": 4,
 "nbformat_minor": 2
}
